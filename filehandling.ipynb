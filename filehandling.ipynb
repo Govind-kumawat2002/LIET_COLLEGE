{
 "cells": [
  {
   "cell_type": "markdown",
   "metadata": {},
   "source": [
    "# File Handling\n",
    "* Python has several functions for creating, reading, updating, and deleting files.\n",
    "* File handling is an important part of any web application.\n",
    "* The key function for working with files in Python is the open() function.\n",
    "* The open() function takes two parameters; filename, and mode.\n",
    " "
   ]
  },
  {
   "cell_type": "markdown",
   "metadata": {},
   "source": [
    "        * There are four different methods (modes) for opening a file:\n",
    "\n",
    "* \"r\" - Read - Default value. Opens a file for reading, error if the file does not exist\n",
    "\n",
    "* \"a\" - Append - Opens a file for appending, creates the file if it does not exist\n",
    "\n",
    "* \"w\" - Write - Opens a file for writing, creates the file if it does not exist\n",
    "\n",
    "* \"x\" - Create - Creates the specified file, returns an error if the file exists\n",
    "\n",
    "               * In addition you can specify if the file should be handled as binary or text mode\n",
    "* \"t\" - Text - Default value. Text mode\n",
    "\n",
    "* \"b\" - Binary - Binary mode (e.g. images)"
   ]
  },
  {
   "cell_type": "code",
   "execution_count": 2,
   "metadata": {},
   "outputs": [
    {
     "data": {
      "text/plain": [
       "<_io.TextIOWrapper name='hello_python.txt' mode='r' encoding='cp1252'>"
      ]
     },
     "execution_count": 2,
     "metadata": {},
     "output_type": "execute_result"
    }
   ],
   "source": [
    "f =open(\"hello_python.txt\")   # normally apn file ko open krte hai by using open function \n"
   ]
  },
  {
   "cell_type": "code",
   "execution_count": 4,
   "metadata": {},
   "outputs": [],
   "source": [
    "f = open(\"hello_python.txt\", \"rt\") # Because \"r\" for read, and \"t\" for text are the default values, you do not need to specify them. \n"
   ]
  },
  {
   "cell_type": "markdown",
   "metadata": {},
   "source": [
    "#### Open a File on the Server\n",
    "* Assume we have the following file, located in the same folder as Python"
   ]
  },
  {
   "cell_type": "code",
   "execution_count": 5,
   "metadata": {},
   "outputs": [
    {
     "name": "stdout",
     "output_type": "stream",
     "text": [
      "Hello everyone,\n",
      "my name is Govind kumawat \n",
      "and i am a Data Scientist\n",
      "\n"
     ]
    }
   ],
   "source": [
    "f=open(\"hello_python.txt\",'r')\n",
    "print(f.read())"
   ]
  },
  {
   "cell_type": "markdown",
   "metadata": {},
   "source": [
    "* If the file is located in a different location, you will have to specify the file path, like this:"
   ]
  },
  {
   "cell_type": "code",
   "execution_count": 6,
   "metadata": {},
   "outputs": [
    {
     "name": "stdout",
     "output_type": "stream",
     "text": [
      "Hello everyone,\n",
      "my name is Govind kumawat \n",
      "and i am a Data Scientist\n",
      "\n"
     ]
    }
   ],
   "source": [
    "f = open(\"E:\\Python_Library\\chat_application\\python\\hello_python.txt\")\n",
    "print(f.read())"
   ]
  },
  {
   "cell_type": "markdown",
   "metadata": {},
   "source": [
    "##### Read Only Parts of the File"
   ]
  },
  {
   "cell_type": "code",
   "execution_count": 8,
   "metadata": {},
   "outputs": [
    {
     "name": "stdout",
     "output_type": "stream",
     "text": [
      "Hello everyone,\n",
      "my n\n"
     ]
    }
   ],
   "source": [
    "f = open(\"E:\\Python_Library\\chat_application\\python\\hello_python.txt\")\n",
    "print(f.read(20))"
   ]
  },
  {
   "cell_type": "markdown",
   "metadata": {},
   "source": [
    "#### Read Lines\n",
    "* We are using readline function "
   ]
  },
  {
   "cell_type": "code",
   "execution_count": 16,
   "metadata": {},
   "outputs": [
    {
     "name": "stdout",
     "output_type": "stream",
     "text": [
      "Hello everyone,\n",
      "\n",
      "my name is Govind kumawat \n",
      "\n"
     ]
    }
   ],
   "source": [
    "f = open(\"E:\\Python_Library\\chat_application\\python\\hello_python.txt\")\n",
    "print(f.readline())\n",
    "print(f.readline())\n",
    "\n",
    "\n",
    "\n"
   ]
  },
  {
   "cell_type": "markdown",
   "metadata": {},
   "source": [
    "* By looping through the lines of the file, you can read the whole file, line by line:"
   ]
  },
  {
   "cell_type": "code",
   "execution_count": 17,
   "metadata": {},
   "outputs": [
    {
     "name": "stdout",
     "output_type": "stream",
     "text": [
      "Hello everyone,\n",
      "\n",
      "my name is Govind kumawat \n",
      "\n",
      "and i am a Data Scientist\n",
      "\n"
     ]
    }
   ],
   "source": [
    "f = open(\"E:\\Python_Library\\chat_application\\python\\hello_python.txt\")\n",
    "for i in f:\n",
    "    print(i)"
   ]
  },
  {
   "cell_type": "markdown",
   "metadata": {},
   "source": [
    "#### Close Files\n",
    "It is a good practice to always close the file when you are done with it."
   ]
  },
  {
   "cell_type": "code",
   "execution_count": 18,
   "metadata": {},
   "outputs": [
    {
     "name": "stdout",
     "output_type": "stream",
     "text": [
      "Hello everyone,\n",
      "my name is Govind kumawat \n",
      "and i am a Data Scientist\n",
      "\n"
     ]
    }
   ],
   "source": [
    "f = open(\"E:\\Python_Library\\chat_application\\python\\hello_python.txt\")\n",
    "print(f.read())\n",
    "f.close()"
   ]
  },
  {
   "cell_type": "markdown",
   "metadata": {},
   "source": [
    "#### Write to an Existing File\n",
    "* To write to an existing file, you must add a parameter to the open() function:\n",
    "\n",
    "         \"a\" - Append - will append to the end of the file\n",
    "\n",
    "         \"w\" - Write - will overwrite any existing content"
   ]
  },
  {
   "cell_type": "code",
   "execution_count": 22,
   "metadata": {},
   "outputs": [
    {
     "name": "stdout",
     "output_type": "stream",
     "text": [
      "Hello everyone,\n",
      "my name is Govind kumawat \n",
      "and i am a Data Scientist\n",
      "i am also from alwari am also from alwari am also from alwari am also from alwar\n"
     ]
    }
   ],
   "source": [
    "f = open(\"hello_python.txt\",'a')  # a is used of add in file \n",
    "f.write(\"i am also from alwar\")\n",
    "f.close()\n",
    "f = open(\"hello_python.txt\",'r')\n",
    "print(f.read())"
   ]
  },
  {
   "cell_type": "code",
   "execution_count": 27,
   "metadata": {},
   "outputs": [
    {
     "name": "stdout",
     "output_type": "stream",
     "text": [
      "heyyy shree \n"
     ]
    }
   ],
   "source": [
    "f = open(\"hello_python.txt\",'w')   ## jo bhi data ho usko bhi delete kr deta hai or apna likh leta hai \n",
    "f.write(\"heyyy shree \")\n",
    "f.close()\n",
    "f = open(\"hello_python.txt\",'r')\n",
    "print(f.read())"
   ]
  },
  {
   "cell_type": "markdown",
   "metadata": {},
   "source": [
    "#### Create a New File\n",
    "    To create a new file in Python, use the open() method, with one of the following parameters:\n",
    "\n",
    "* \"x\" - Create - will create a file, returns an error if the file exist\n",
    "\n",
    "* \"a\" - Append - will create a file if the specified file does not exist\n",
    "\n",
    "* \"w\" - Write - will create a file if the specified file does not exist"
   ]
  },
  {
   "cell_type": "markdown",
   "metadata": {},
   "source": [
    "#### Create a file called \"myfile.txt\":"
   ]
  },
  {
   "cell_type": "code",
   "execution_count": 6,
   "metadata": {},
   "outputs": [
    {
     "ename": "FileExistsError",
     "evalue": "[Errno 17] File exists: 'myfile.txt'",
     "output_type": "error",
     "traceback": [
      "\u001b[1;31m---------------------------------------------------------------------------\u001b[0m",
      "\u001b[1;31mFileExistsError\u001b[0m                           Traceback (most recent call last)",
      "Cell \u001b[1;32mIn[6], line 1\u001b[0m\n\u001b[1;32m----> 1\u001b[0m f \u001b[38;5;241m=\u001b[39m \u001b[38;5;28;43mopen\u001b[39;49m\u001b[43m(\u001b[49m\u001b[38;5;124;43m\"\u001b[39;49m\u001b[38;5;124;43mmyfile.txt\u001b[39;49m\u001b[38;5;124;43m\"\u001b[39;49m\u001b[43m,\u001b[49m\u001b[38;5;124;43m'\u001b[39;49m\u001b[38;5;124;43mx\u001b[39;49m\u001b[38;5;124;43m'\u001b[39;49m\u001b[43m)\u001b[49m   \u001b[38;5;66;03m#  create krega file ko chaiye   or esme agr file hai to ye error show krega \u001b[39;00m\n\u001b[0;32m      2\u001b[0m f\u001b[38;5;241m.\u001b[39mwrite(\u001b[38;5;124m\"\u001b[39m\u001b[38;5;124mhello baby\u001b[39m\u001b[38;5;124m\"\u001b[39m)\n\u001b[0;32m      3\u001b[0m f\u001b[38;5;241m.\u001b[39mclose()\n",
      "File \u001b[1;32m~\\AppData\\Local\\Packages\\PythonSoftwareFoundation.Python.3.12_qbz5n2kfra8p0\\LocalCache\\local-packages\\Python312\\site-packages\\IPython\\core\\interactiveshell.py:310\u001b[0m, in \u001b[0;36m_modified_open\u001b[1;34m(file, *args, **kwargs)\u001b[0m\n\u001b[0;32m    303\u001b[0m \u001b[38;5;28;01mif\u001b[39;00m file \u001b[38;5;129;01min\u001b[39;00m {\u001b[38;5;241m0\u001b[39m, \u001b[38;5;241m1\u001b[39m, \u001b[38;5;241m2\u001b[39m}:\n\u001b[0;32m    304\u001b[0m     \u001b[38;5;28;01mraise\u001b[39;00m \u001b[38;5;167;01mValueError\u001b[39;00m(\n\u001b[0;32m    305\u001b[0m         \u001b[38;5;124mf\u001b[39m\u001b[38;5;124m\"\u001b[39m\u001b[38;5;124mIPython won\u001b[39m\u001b[38;5;124m'\u001b[39m\u001b[38;5;124mt let you open fd=\u001b[39m\u001b[38;5;132;01m{\u001b[39;00mfile\u001b[38;5;132;01m}\u001b[39;00m\u001b[38;5;124m by default \u001b[39m\u001b[38;5;124m\"\u001b[39m\n\u001b[0;32m    306\u001b[0m         \u001b[38;5;124m\"\u001b[39m\u001b[38;5;124mas it is likely to crash IPython. If you know what you are doing, \u001b[39m\u001b[38;5;124m\"\u001b[39m\n\u001b[0;32m    307\u001b[0m         \u001b[38;5;124m\"\u001b[39m\u001b[38;5;124myou can use builtins\u001b[39m\u001b[38;5;124m'\u001b[39m\u001b[38;5;124m open.\u001b[39m\u001b[38;5;124m\"\u001b[39m\n\u001b[0;32m    308\u001b[0m     )\n\u001b[1;32m--> 310\u001b[0m \u001b[38;5;28;01mreturn\u001b[39;00m \u001b[43mio_open\u001b[49m\u001b[43m(\u001b[49m\u001b[43mfile\u001b[49m\u001b[43m,\u001b[49m\u001b[43m \u001b[49m\u001b[38;5;241;43m*\u001b[39;49m\u001b[43margs\u001b[49m\u001b[43m,\u001b[49m\u001b[43m \u001b[49m\u001b[38;5;241;43m*\u001b[39;49m\u001b[38;5;241;43m*\u001b[39;49m\u001b[43mkwargs\u001b[49m\u001b[43m)\u001b[49m\n",
      "\u001b[1;31mFileExistsError\u001b[0m: [Errno 17] File exists: 'myfile.txt'"
     ]
    }
   ],
   "source": [
    "f = open(\"myfile.txt\",'x')   #  create krega file ko chaiye   or esme agr file hai to ye error show krega \n",
    "f.write(\"hello baby\")\n",
    "f.close()\n"
   ]
  },
  {
   "cell_type": "code",
   "execution_count": 4,
   "metadata": {},
   "outputs": [
    {
     "name": "stdout",
     "output_type": "stream",
     "text": [
      "hello baby\n"
     ]
    }
   ],
   "source": [
    "f = open(\"myfile1.txt\",'r')\n",
    "print(f.read())"
   ]
  },
  {
   "cell_type": "code",
   "execution_count": 7,
   "metadata": {},
   "outputs": [],
   "source": [
    "f = open(\"myfile.txt\", \"w\")   ### jb file hogi tb usi me update kr dega "
   ]
  },
  {
   "cell_type": "code",
   "execution_count": null,
   "metadata": {},
   "outputs": [],
   "source": []
  }
 ],
 "metadata": {
  "kernelspec": {
   "display_name": "Python 3",
   "language": "python",
   "name": "python3"
  },
  "language_info": {
   "codemirror_mode": {
    "name": "ipython",
    "version": 3
   },
   "file_extension": ".py",
   "mimetype": "text/x-python",
   "name": "python",
   "nbconvert_exporter": "python",
   "pygments_lexer": "ipython3",
   "version": "3.12.3"
  }
 },
 "nbformat": 4,
 "nbformat_minor": 2
}

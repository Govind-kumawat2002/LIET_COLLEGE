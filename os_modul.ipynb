{
 "cells": [
  {
   "cell_type": "markdown",
   "metadata": {},
   "source": [
    "# OS modul function\n",
    "###### In Python, the `os` module provides a way of interacting with the operating system. It offers functions for working with files and directories, managing processes, and accessing environment variables. Here are some common functions provided by the `os` module:\n",
    "\n",
    "* 1. `os.getcwd()`: Returns the current working directory as a string.\n",
    "* 2. `os.chdir(path)`: Changes the current working directory to the specified path.\n",
    "* 3. `os.listdir(path='.')`: Returns a list of the names of the files and directories in the specified directory.\n",
    "* 4. `os.mkdir(path)`: Creates a directory named path.\n",
    "* 5. `os.makedirs(path)`: Creates a directory named path, creating any intermediate directories if necessary.\n",
    "* 6. `os.remove(path)`: Removes (deletes) the file path.\n",
    "* 7. `os.rename(src, dst)`: Renames the file or directory src to dst.\n",
    "* 8. `os.path.exists(path)`: Returns True if path refers to an existing path.\n",
    "* 9. `os.path.isfile(path)`: Returns True if path is an existing regular file.\n",
    "* 10. `os.path.isdir(path)`: Returns True if path is an existing directory.\n",
    "* 11. `os.path.join(path1, path2, ...)`: Joins one or more path components intelligently. *\n",
    "* These are just a few examples; the `os` module provides many more functions for interacting with the operating system."
   ]
  },
  {
   "cell_type": "code",
   "execution_count": 1,
   "metadata": {},
   "outputs": [],
   "source": [
    "import os"
   ]
  },
  {
   "cell_type": "code",
   "execution_count": 2,
   "metadata": {},
   "outputs": [
    {
     "data": {
      "text/plain": [
       "'c:\\\\Users\\\\kumaw\\\\OneDrive\\\\Desktop\\\\LIET_TRANING\\\\LIET_COLLEGE'"
      ]
     },
     "execution_count": 2,
     "metadata": {},
     "output_type": "execute_result"
    }
   ],
   "source": [
    "os.getcwd()  # current path nikale ke liye "
   ]
  },
  {
   "cell_type": "code",
   "execution_count": 5,
   "metadata": {},
   "outputs": [
    {
     "data": {
      "text/plain": [
       "['.git',\n",
       " 'filehandling.ipynb',\n",
       " 'hello_python.txt',\n",
       " 'hello_python1.txt',\n",
       " 'myfile.txt',\n",
       " 'myfile1.txt',\n",
       " 'myfile22.txt',\n",
       " 'myfile45.txt',\n",
       " 'os_modul.ipynb',\n",
       " 'README.md']"
      ]
     },
     "execution_count": 5,
     "metadata": {},
     "output_type": "execute_result"
    }
   ],
   "source": [
    "os.listdir(path=r'C:\\Users\\kumaw\\OneDrive\\Desktop\\LIET_TRANING\\LIET_COLLEGE')   # kiti file present hai "
   ]
  },
  {
   "cell_type": "code",
   "execution_count": 10,
   "metadata": {},
   "outputs": [
    {
     "ename": "FileNotFoundError",
     "evalue": "[WinError 3] The system cannot find the path specified: 'C:\\\\Users\\\\kumaw\\\\OneDrive\\\\Desktop\\\\yyy\\\\LIET_TRANING\\\\LIET_COLLEGE\\\\hello'",
     "output_type": "error",
     "traceback": [
      "\u001b[1;31m---------------------------------------------------------------------------\u001b[0m",
      "\u001b[1;31mFileNotFoundError\u001b[0m                         Traceback (most recent call last)",
      "Cell \u001b[1;32mIn[10], line 1\u001b[0m\n\u001b[1;32m----> 1\u001b[0m \u001b[43mos\u001b[49m\u001b[38;5;241;43m.\u001b[39;49m\u001b[43mmkdir\u001b[49m\u001b[43m(\u001b[49m\u001b[43mpath\u001b[49m\u001b[38;5;241;43m=\u001b[39;49m\u001b[38;5;124;43mr\u001b[39;49m\u001b[38;5;124;43m'\u001b[39;49m\u001b[38;5;124;43mC:\u001b[39;49m\u001b[38;5;124;43m\\\u001b[39;49m\u001b[38;5;124;43mUsers\u001b[39;49m\u001b[38;5;124;43m\\\u001b[39;49m\u001b[38;5;124;43mkumaw\u001b[39;49m\u001b[38;5;124;43m\\\u001b[39;49m\u001b[38;5;124;43mOneDrive\u001b[39;49m\u001b[38;5;124;43m\\\u001b[39;49m\u001b[38;5;124;43mDesktop\u001b[39;49m\u001b[38;5;124;43m\\\u001b[39;49m\u001b[38;5;124;43myyy\u001b[39;49m\u001b[38;5;124;43m\\\u001b[39;49m\u001b[38;5;124;43mLIET_TRANING\u001b[39;49m\u001b[38;5;124;43m\\\u001b[39;49m\u001b[38;5;124;43mLIET_COLLEGE\u001b[39;49m\u001b[38;5;124;43m\\\u001b[39;49m\u001b[38;5;124;43mhello\u001b[39;49m\u001b[38;5;124;43m'\u001b[39;49m\u001b[43m)\u001b[49m   \u001b[38;5;66;03m# new folder bane ke liye\u001b[39;00m\n",
      "\u001b[1;31mFileNotFoundError\u001b[0m: [WinError 3] The system cannot find the path specified: 'C:\\\\Users\\\\kumaw\\\\OneDrive\\\\Desktop\\\\yyy\\\\LIET_TRANING\\\\LIET_COLLEGE\\\\hello'"
     ]
    }
   ],
   "source": [
    "os.mkdir(path=r'C:\\Users\\kumaw\\OneDrive\\Desktop\\LIET_TRANING\\LIET_COLLEGE\\hello')   # new folder bane ke liye"
   ]
  },
  {
   "cell_type": "code",
   "execution_count": 11,
   "metadata": {},
   "outputs": [],
   "source": [
    "os.makedirs(r'C:\\Users\\kumaw\\OneDrive\\Desktop\\LIET_TRANING\\LIET_COLLEGE\\byyy\\hello') # midle me folder banne ke liye eska used krte hai "
   ]
  },
  {
   "cell_type": "code",
   "execution_count": 13,
   "metadata": {},
   "outputs": [],
   "source": [
    "os.chdir(path=r'C:\\Users\\kumaw\\OneDrive\\Desktop\\assignment')"
   ]
  },
  {
   "cell_type": "code",
   "execution_count": 14,
   "metadata": {},
   "outputs": [
    {
     "data": {
      "text/plain": [
       "'C:\\\\Users\\\\kumaw\\\\OneDrive\\\\Desktop\\\\assignment'"
      ]
     },
     "execution_count": 14,
     "metadata": {},
     "output_type": "execute_result"
    }
   ],
   "source": [
    "os.getcwd()"
   ]
  },
  {
   "cell_type": "code",
   "execution_count": null,
   "metadata": {},
   "outputs": [],
   "source": []
  }
 ],
 "metadata": {
  "kernelspec": {
   "display_name": "Python 3",
   "language": "python",
   "name": "python3"
  },
  "language_info": {
   "codemirror_mode": {
    "name": "ipython",
    "version": 3
   },
   "file_extension": ".py",
   "mimetype": "text/x-python",
   "name": "python",
   "nbconvert_exporter": "python",
   "pygments_lexer": "ipython3",
   "version": "3.12.3"
  }
 },
 "nbformat": 4,
 "nbformat_minor": 2
}
